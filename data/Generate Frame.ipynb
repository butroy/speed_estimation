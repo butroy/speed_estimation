{
 "cells": [
  {
   "cell_type": "markdown",
   "metadata": {},
   "source": [
    "This note book generate frames and the info file for the train video"
   ]
  },
  {
   "cell_type": "code",
   "execution_count": null,
   "metadata": {},
   "outputs": [],
   "source": [
    "import sys\n",
    "import os\n",
    "import cv2\n",
    "import csv\n",
    "import numpy as np\n",
    "import pandas as pd\n",
    "import matplotlib.pyplot as plt\n",
    "import matplotlib.image as mpimg\n",
    "import sklearn\n",
    "%matplotlib inline"
   ]
  },
  {
   "cell_type": "code",
   "execution_count": null,
   "metadata": {
    "scrolled": true
   },
   "outputs": [],
   "source": [
    "train_speed = np.loadtxt('./train.txt')\n",
    "total_frame = train_speed.shape[0]\n",
    "cap = cv2.VideoCapture('./train.mp4')\n",
    "if not cap.isOpened():\n",
    "    print(\"Opening video failed\")\n",
    "save_path = './training_frames'\n",
    "if not os.path.exists(save_path):\n",
    "    os.mkdir(save_path)\n",
    "    print(save_path + ' created')\n",
    "with open('./info.csv','w',newline='') as csvfile:\n",
    "    writer = csv.DictWriter(csvfile,fieldnames=['frame','path','label'])\n",
    "    writer.writeheader()\n",
    "    \n",
    "    for idx in range(total_frame):\n",
    "        \n",
    "       # cv2.SetCaptureProperty(cap,CAP_PROP_POS_FRAMES,idx)\n",
    "        cap.set(cv2.CAP_PROP_POS_FRAMES,idx)\n",
    "        ret,frame=cap.read()\n",
    "        if ret:\n",
    "            image_path = os.path.join(save_path,str(idx)+'.jpg')\n",
    "            print(image_path)\n",
    "            cv2.imwrite(image_path,frame)\n",
    "            writer.writerow({'frame':idx,'path':image_path,'label':train_speed[idx]})\n",
    "        else:\n",
    "            print('error in ' + str(idx))"
   ]
  },
  {
   "cell_type": "code",
   "execution_count": null,
   "metadata": {},
   "outputs": [],
   "source": []
  }
 ],
 "metadata": {
  "kernelspec": {
   "display_name": "Python 3",
   "language": "python",
   "name": "python3"
  },
  "language_info": {
   "codemirror_mode": {
    "name": "ipython",
    "version": 3
   },
   "file_extension": ".py",
   "mimetype": "text/x-python",
   "name": "python",
   "nbconvert_exporter": "python",
   "pygments_lexer": "ipython3",
   "version": "3.5.6"
  }
 },
 "nbformat": 4,
 "nbformat_minor": 2
}
