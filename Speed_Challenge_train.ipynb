{
 "cells": [
  {
   "cell_type": "code",
   "execution_count": null,
   "metadata": {},
   "outputs": [],
   "source": [
    "import sys\n",
    "import os\n",
    "import cv2\n",
    "import csv\n",
    "import numpy as np\n",
    "import pandas as pd\n",
    "import matplotlib.pyplot as plt\n",
    "import matplotlib.image as mpimg\n",
    "import sklearn\n",
    "from utils import *\n",
    "%matplotlib inline"
   ]
  },
  {
   "cell_type": "code",
   "execution_count": null,
   "metadata": {},
   "outputs": [],
   "source": [
    "train_speed = np.loadtxt('./data/train.txt')\n",
    "total_frame = train_speed.shape[0]\n",
    "plt.plot(np.arange(0,len(train_speed)/20,1/20),train_speed)\n",
    "plt.xlabel('time(s)')\n",
    "plt.ylabel('speed(mph)')\n",
    "plt.title('Speed Tracking')\n",
    "plt.show()"
   ]
  },
  {
   "cell_type": "code",
   "execution_count": null,
   "metadata": {},
   "outputs": [],
   "source": [
    "info = pd.read_csv('./data/info.csv')\n",
    "info['avg_speed'] = info.label.rolling(window=2).mean()\n",
    "curPaths= [None]\n",
    "for i in range(total_frame-1):\n",
    "    curPaths.append('./data/training_frames/' + str(i)+'.jpg')\n",
    "info['curImgPath'] = curPaths\n",
    "info = info.drop(info.index[0])\n",
    "info = info.rename(columns={'path':'nxtImgPath'})\n",
    "info = info.reset_index(drop=True)\n",
    "info.head()"
   ]
  },
  {
   "cell_type": "code",
   "execution_count": null,
   "metadata": {},
   "outputs": [],
   "source": [
    "shuffled = sklearn.utils.shuffle(info)\n",
    "train_number =int(total_frame*0.7)\n",
    "validation_number = int(total_frame*0.2)\n",
    "test_number = int(total_frame*0.1)\n",
    "\n",
    "train_info = shuffled.iloc[:train_number]\n",
    "validation_info = shuffled.iloc[train_number:train_number+validation_number]\n",
    "test_info = shuffled.iloc[train_number+validation_number:]\n",
    "print('train_number: ' + str(len(train_info)))\n",
    "print('validation number: ' + str(len(validation_info)))\n",
    "print('test_number: ' + str(len(test_info)))"
   ]
  },
  {
   "cell_type": "code",
   "execution_count": null,
   "metadata": {},
   "outputs": [],
   "source": [
    "from keras.callbacks import EarlyStopping, ModelCheckpoint\n",
    "filepath = 'nvidia_2.h5'\n",
    "earlyStopping = EarlyStopping(monitor='val_loss', \n",
    "                              patience=1, \n",
    "                              verbose=1, \n",
    "                              min_delta = 0.2,\n",
    "                              mode='min',)\n",
    "modelCheckpoint = ModelCheckpoint(filepath, \n",
    "                                  monitor = 'val_loss', \n",
    "                                  save_best_only = True, \n",
    "                                  mode = 'min', \n",
    "                                  verbose = 1,\n",
    "                                 save_weights_only = True)\n",
    "callbacks_list = [modelCheckpoint]\n",
    "train_generator = batch_generator(train_info)\n",
    "valid_generator = batch_generator(validation_info)\n"
   ]
  },
  {
   "cell_type": "code",
   "execution_count": null,
   "metadata": {},
   "outputs": [],
   "source": [
    "model = nvidia_model()\n",
    "history = model.fit_generator(\n",
    "        train_generator, \n",
    "        steps_per_epoch = len(train_info)//16, \n",
    "        epochs = 15,\n",
    "        callbacks = callbacks_list,\n",
    "        verbose = 1,\n",
    "        validation_data = valid_generator,\n",
    "        validation_steps = len(validation_info)//16)\n",
    "\n",
    "#print(history)"
   ]
  },
  {
   "cell_type": "code",
   "execution_count": null,
   "metadata": {},
   "outputs": [],
   "source": []
  }
 ],
 "metadata": {
  "kernelspec": {
   "display_name": "Python 3",
   "language": "python",
   "name": "python3"
  },
  "language_info": {
   "codemirror_mode": {
    "name": "ipython",
    "version": 3
   },
   "file_extension": ".py",
   "mimetype": "text/x-python",
   "name": "python",
   "nbconvert_exporter": "python",
   "pygments_lexer": "ipython3",
   "version": "3.5.6"
  }
 },
 "nbformat": 4,
 "nbformat_minor": 2
}
