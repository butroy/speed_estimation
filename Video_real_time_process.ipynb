{
 "cells": [
  {
   "cell_type": "code",
   "execution_count": null,
   "metadata": {},
   "outputs": [],
   "source": [
    "import sys\n",
    "import os\n",
    "import cv2\n",
    "import csv\n",
    "import numpy as np\n",
    "import pandas as pd\n",
    "import matplotlib.pyplot as plt\n",
    "import matplotlib.image as mpimg\n",
    "import sklearn\n",
    "from utils import *\n",
    "from sklearn.metrics import mean_squared_error"
   ]
  },
  {
   "cell_type": "markdown",
   "metadata": {},
   "source": [
    "## For the train video"
   ]
  },
  {
   "cell_type": "code",
   "execution_count": null,
   "metadata": {},
   "outputs": [],
   "source": [
    "train_speed = np.loadtxt('./data/train.txt')\n",
    "total_frame = train_speed.shape[0]\n",
    "\n",
    "cap = cv2.VideoCapture('./data/train.mp4')\n",
    "if not cap.isOpened():\n",
    "    print(\"Opening video failed\")"
   ]
  },
  {
   "cell_type": "code",
   "execution_count": null,
   "metadata": {},
   "outputs": [],
   "source": [
    "def process_video_img(img):\n",
    "    img = crop_image(img)\n",
    "    img = cv2.cvtColor(img, cv2.COLOR_BGR2GRAY)\n",
    "    return img"
   ]
  },
  {
   "cell_type": "code",
   "execution_count": null,
   "metadata": {},
   "outputs": [],
   "source": [
    "model = nvidia_model()\n",
    "model.load_weights('nvidia_1.h5')"
   ]
  },
  {
   "cell_type": "code",
   "execution_count": null,
   "metadata": {},
   "outputs": [],
   "source": [
    "cap.set(cv2.CAP_PROP_POS_FRAMES,0)\n",
    "ret,img1 = cap.read()\n",
    "img1_gray = process_video_img(img1)\n",
    "idx =1\n",
    "font                   = cv2.FONT_HERSHEY_SIMPLEX\n",
    "TrueSpeedLoc           = (10,70)\n",
    "PredSpeedLoc           = (10,90)\n",
    "MseSpeedLoc            = (10,110)\n",
    "fontScale              = 0.5\n",
    "lineType               = 2\n",
    "all_true = []\n",
    "all_pred = []\n",
    "for idx in range(1,total_frame-1):\n",
    "    cap.set(cv2.CAP_PROP_POS_FRAMES,idx)\n",
    "    ret,img2 = cap.read()\n",
    "    if ret:\n",
    "        img2_gray = process_video_img(img2)\n",
    "       \n",
    "        flow = single_optical_flow_dense(img1_gray,img2_gray)\n",
    "        flow = flow.reshape(1,flow.shape[0],flow.shape[1],flow.shape[2])\n",
    "        predict_speed = model.predict(flow)\n",
    "        \n",
    "        predicted = predict_speed[0][0]\n",
    "        trueLabel = train_speed[idx]\n",
    "        mse = (predicted-trueLabel)**2\n",
    "        all_true.append(trueLabel)\n",
    "        all_pred.append(predicted)\n",
    "        true_speed_text = 'True: ' + str(trueLabel)\n",
    "        pred_speed_text = 'Pred:' + str(predicted)\n",
    "        mse_text = 'mse:' + str(mse)\n",
    "        cv2.putText(img2, true_speed_text, TrueSpeedLoc, font, fontScale,(255,0,0),lineType)\n",
    "        cv2.putText(img2, pred_speed_text, PredSpeedLoc, font, fontScale,(0,255,0),lineType)\n",
    "        cv2.putText(img2, mse_text, MseSpeedLoc, font, fontScale,(0,0,255),lineType)\n",
    "        cv2.imshow('image',img2)\n",
    "        if cv2.waitKey(1) & 0xFF == ord('q'):\n",
    "            break\n",
    "        img1=img2\n",
    "        img1_gray = img2_gray\n",
    "\n",
    "cv2.destroyAllWindows()"
   ]
  },
  {
   "cell_type": "code",
   "execution_count": null,
   "metadata": {},
   "outputs": [],
   "source": [
    "mean_squared_error(all_true,all_pred)"
   ]
  },
  {
   "cell_type": "markdown",
   "metadata": {},
   "source": [
    "## For the test video"
   ]
  },
  {
   "cell_type": "code",
   "execution_count": null,
   "metadata": {},
   "outputs": [],
   "source": [
    "cap = cv2.VideoCapture('./data/test.mp4')\n",
    "if not cap.isOpened():\n",
    "    print(\"Opening video failed\")\n",
    "cap.set(cv2.CAP_PROP_POS_FRAMES,0)\n",
    "ret,img1 = cap.read()\n",
    "img1_gray = process_video_img(img1)\n",
    "idx = 1\n",
    "font                   = cv2.FONT_HERSHEY_SIMPLEX\n",
    "predSpeedLoc           = (10,70)\n",
    "fontScale              = 0.5\n",
    "lineType               = 2\n",
    "all_pred = []\n",
    "\n",
    "while True:\n",
    "    cap.set(cv2.CAP_PROP_POS_FRAMES,idx)\n",
    "    ret,img2 = cap.read()\n",
    "    if ret:\n",
    "        img2_gray = process_video_img(img2)\n",
    "       \n",
    "        flow = single_optical_flow_dense(img1_gray,img2_gray)\n",
    "        flow = flow.reshape(1,flow.shape[0],flow.shape[1],flow.shape[2])\n",
    "        predict_speed = model.predict(flow)\n",
    "        \n",
    "        predicted = predict_speed[0][0]\n",
    "        trueLabel = train_speed[idx]\n",
    "        \n",
    "        all_pred.append(predicted)\n",
    "        pred_speed_text = 'Pred:' + str(predicted)\n",
    "        cv2.putText(img2, pred_speed_text, predSpeedLoc, font, fontScale,(0,255,0),lineType)\n",
    "       \n",
    "        cv2.imshow('image',img2)\n",
    "        if cv2.waitKey(1) & 0xFF == ord('q'):\n",
    "            break\n",
    "        img1=img2\n",
    "        img1_gray = img2_gray\n",
    "        idx += 1\n",
    "    else:\n",
    "        break\n",
    "\n",
    "cv2.destroyAllWindows()"
   ]
  },
  {
   "cell_type": "code",
   "execution_count": null,
   "metadata": {},
   "outputs": [],
   "source": []
  }
 ],
 "metadata": {
  "kernelspec": {
   "display_name": "Python 3",
   "language": "python",
   "name": "python3"
  },
  "language_info": {
   "codemirror_mode": {
    "name": "ipython",
    "version": 3
   },
   "file_extension": ".py",
   "mimetype": "text/x-python",
   "name": "python",
   "nbconvert_exporter": "python",
   "pygments_lexer": "ipython3",
   "version": "3.5.6"
  },
  "toc": {
   "base_numbering": 1,
   "nav_menu": {},
   "number_sections": true,
   "sideBar": true,
   "skip_h1_title": false,
   "title_cell": "Table of Contents",
   "title_sidebar": "Contents",
   "toc_cell": false,
   "toc_position": {},
   "toc_section_display": true,
   "toc_window_display": false
  }
 },
 "nbformat": 4,
 "nbformat_minor": 2
}
